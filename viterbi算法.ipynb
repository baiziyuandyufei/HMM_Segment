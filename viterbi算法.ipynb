{
 "cells": [
  {
   "cell_type": "code",
   "execution_count": 1,
   "metadata": {},
   "outputs": [],
   "source": [
    "import numpy as np"
   ]
  },
  {
   "cell_type": "code",
   "execution_count": 2,
   "metadata": {},
   "outputs": [
    {
     "name": "stdout",
     "output_type": "stream",
     "text": [
      "A=\n",
      " [[0.5 0.2 0.3]\n",
      " [0.3 0.5 0.2]\n",
      " [0.2 0.3 0.5]]\n",
      "B=\n",
      " [[0.5 0.5]\n",
      " [0.4 0.6]\n",
      " [0.7 0.3]]\n",
      "PI=\n",
      " [0.2 0.4 0.4]\n",
      "O=\n",
      " [0, 1, 0]\n"
     ]
    }
   ],
   "source": [
    "# 初始化模型参数\n",
    "A = np.array([[0.5, 0.2, 0.3],\n",
    "                   [0.3, 0.5, 0.2],\n",
    "                   [0.2, 0.3, 0.5]])\n",
    "B = np.array([[0.5, 0.5],\n",
    "                   [0.4, 0.6],\n",
    "                   [0.7, 0.3]])\n",
    "PI = np.array([0.2, 0.4, 0.4])\n",
    "O = [0, 1, 0]\n",
    "print('A=\\n', A)\n",
    "print('B=\\n', B)\n",
    "print('PI=\\n', PI)\n",
    "print('O=\\n', O)"
   ]
  },
  {
   "cell_type": "code",
   "execution_count": 3,
   "metadata": {},
   "outputs": [
    {
     "name": "stdout",
     "output_type": "stream",
     "text": [
      "delta_1= [0.1  0.16 0.28]\n",
      "kesi_1= [0 0 0]\n",
      "best_path= [0 0 0] (3,)\n"
     ]
    }
   ],
   "source": [
    "# viterbi算法中初始化delta_1\n",
    "delta_1 = PI * B[:, 0]\n",
    "# viterbi算法中初始化kesi_1\n",
    "kesi_1 = np.zeros(PI.size, dtype=np.int)\n",
    "print('delta_1=', delta_1)\n",
    "print('kesi_1=', kesi_1)\n",
    "# 最优路径记录初始化\n",
    "kesi = np.array(kesi_1.T)\n",
    "print('best_path=', kesi, kesi.shape)"
   ]
  },
  {
   "cell_type": "code",
   "execution_count": 4,
   "metadata": {},
   "outputs": [
    {
     "name": "stdout",
     "output_type": "stream",
     "text": [
      "delta_2=  [0.028  0.0504 0.042 ]\n",
      "kesi_2 =  [2 2 2]\n",
      "delta_3=  [0.00756 0.01008 0.0147 ]\n",
      "kesi_3 =  [1 1 2]\n",
      "kesi=\n",
      " [[0 2 1]\n",
      " [0 2 1]\n",
      " [0 2 2]]\n"
     ]
    }
   ],
   "source": [
    "# 递推\n",
    "delta_tplusone = delta_1.copy()\n",
    "for t in range(1, len(O)):\n",
    "    max_delta_tminus_aji = np.tile(delta_tplusone, PI.size).reshape(A.shape).T*A\n",
    "    delta_t = np.max(max_delta_tminus_aji, 0)*B[:,O[t]]\n",
    "    kesi_t = np.argmax(max_delta_tminus_aji, 0)\n",
    "    kesi = np.column_stack((kesi, kesi_t.T))\n",
    "    print('delta_%d= ' % (t+1), delta_t)\n",
    "    print('kesi_%d = ' % (t+1), kesi_t)\n",
    "    delta_tplusone = delta_t.copy()\n",
    "print('kesi=\\n', kesi)"
   ]
  },
  {
   "cell_type": "code",
   "execution_count": 5,
   "metadata": {},
   "outputs": [
    {
     "name": "stdout",
     "output_type": "stream",
     "text": [
      "P_star= 0.014699999999999998\n",
      "i_T_star= 2\n"
     ]
    }
   ],
   "source": [
    "# 终止\n",
    "P_star = np.max(delta_t)\n",
    "i_T_star = np.argmax(kesi_t)\n",
    "print('P_star=', P_star)\n",
    "print('i_T_star=', i_T_star)"
   ]
  },
  {
   "cell_type": "code",
   "execution_count": 6,
   "metadata": {},
   "outputs": [
    {
     "name": "stdout",
     "output_type": "stream",
     "text": [
      "kesi [[0 2 1]\n",
      " [0 2 1]\n",
      " [0 2 2]]\n",
      "[2, 2, 2]\n"
     ]
    }
   ],
   "source": [
    "# 最优路径回溯\n",
    "print('kesi', kesi)\n",
    "I_star = [i_T_star]\n",
    "i_tplus_star = i_T_star\n",
    "for t in range(kesi.shape[1]-1, 0, -1):\n",
    "    i_t_star = kesi[:,t][i_tplus_star]\n",
    "    I_star.append(i_t_star)\n",
    "    i_tplus_star = i_t_star\n",
    "I_star = I_star[::-1]\n",
    "print(I_star)"
   ]
  }
 ],
 "metadata": {
  "kernelspec": {
   "display_name": "Python 3",
   "language": "python",
   "name": "python3"
  },
  "language_info": {
   "codemirror_mode": {
    "name": "ipython",
    "version": 3
   },
   "file_extension": ".py",
   "mimetype": "text/x-python",
   "name": "python",
   "nbconvert_exporter": "python",
   "pygments_lexer": "ipython3",
   "version": "3.6.5"
  }
 },
 "nbformat": 4,
 "nbformat_minor": 2
}
